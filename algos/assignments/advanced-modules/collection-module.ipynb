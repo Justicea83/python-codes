{
 "cells": [
  {
   "cell_type": "code",
   "execution_count": 1,
   "id": "edee46ea",
   "metadata": {},
   "outputs": [],
   "source": [
    "from collections import Counter"
   ]
  },
  {
   "cell_type": "code",
   "execution_count": 2,
   "id": "22734a57",
   "metadata": {},
   "outputs": [],
   "source": [
    "mylist = [1,1,1,2,2,2,2,3,4,3,4,4,5,4,3,2,4,5,6,6,6,6]"
   ]
  },
  {
   "cell_type": "code",
   "execution_count": 3,
   "id": "02b1ed7c",
   "metadata": {},
   "outputs": [
    {
     "data": {
      "text/plain": [
       "Counter({1: 3, 2: 5, 3: 3, 4: 5, 5: 2, 6: 4})"
      ]
     },
     "execution_count": 3,
     "metadata": {},
     "output_type": "execute_result"
    }
   ],
   "source": [
    "Counter(mylist)"
   ]
  },
  {
   "cell_type": "code",
   "execution_count": 4,
   "id": "6e01544c",
   "metadata": {},
   "outputs": [
    {
     "data": {
      "text/plain": [
       "Counter({'a': 2, 10: 3})"
      ]
     },
     "execution_count": 4,
     "metadata": {},
     "output_type": "execute_result"
    }
   ],
   "source": [
    "mylist1 = ['a', 'a', 10, 10, 10]\n",
    "Counter(mylist1)"
   ]
  },
  {
   "cell_type": "code",
   "execution_count": 5,
   "id": "686e5b3d",
   "metadata": {},
   "outputs": [
    {
     "data": {
      "text/plain": [
       "Counter({'L': 1, 'i': 1, 'z': 2, 'y': 1})"
      ]
     },
     "execution_count": 5,
     "metadata": {},
     "output_type": "execute_result"
    }
   ],
   "source": [
    "Counter('Lizzy')"
   ]
  },
  {
   "cell_type": "code",
   "execution_count": 6,
   "id": "a9d696e4",
   "metadata": {},
   "outputs": [
    {
     "data": {
      "text/plain": [
       "['Lizzy',\n",
       " 'loves',\n",
       " 'kooko',\n",
       " 'too',\n",
       " 'much,',\n",
       " 'that',\n",
       " 'I',\n",
       " \"don't\",\n",
       " 'even',\n",
       " 'understand']"
      ]
     },
     "execution_count": 6,
     "metadata": {},
     "output_type": "execute_result"
    }
   ],
   "source": [
    "sentence = \"Lizzy loves kooko too much, that I don't even understand\"\n",
    "sentence.split()"
   ]
  },
  {
   "cell_type": "code",
   "execution_count": 7,
   "id": "3a0ae875",
   "metadata": {},
   "outputs": [
    {
     "data": {
      "text/plain": [
       "Counter({'Lizzy': 1,\n",
       "         'loves': 1,\n",
       "         'kooko': 1,\n",
       "         'too': 1,\n",
       "         'much,': 1,\n",
       "         'that': 1,\n",
       "         'I': 1,\n",
       "         \"don't\": 1,\n",
       "         'even': 1,\n",
       "         'understand': 1})"
      ]
     },
     "execution_count": 7,
     "metadata": {},
     "output_type": "execute_result"
    }
   ],
   "source": [
    "Counter(sentence.split())"
   ]
  },
  {
   "cell_type": "code",
   "execution_count": 8,
   "id": "9fd22a6f",
   "metadata": {},
   "outputs": [],
   "source": [
    "from collections import defaultdict"
   ]
  },
  {
   "cell_type": "code",
   "execution_count": 12,
   "id": "103e0bcf",
   "metadata": {},
   "outputs": [],
   "source": [
    "d = defaultdict(float)"
   ]
  },
  {
   "cell_type": "code",
   "execution_count": 13,
   "id": "4c0c966c",
   "metadata": {},
   "outputs": [
    {
     "data": {
      "text/plain": [
       "0.0"
      ]
     },
     "execution_count": 13,
     "metadata": {},
     "output_type": "execute_result"
    }
   ],
   "source": [
    "d['a']"
   ]
  },
  {
   "cell_type": "code",
   "execution_count": 14,
   "id": "1fbc98ef",
   "metadata": {},
   "outputs": [
    {
     "data": {
      "text/plain": [
       "defaultdict(float, {'a': 0.0})"
      ]
     },
     "execution_count": 14,
     "metadata": {},
     "output_type": "execute_result"
    }
   ],
   "source": [
    "d"
   ]
  },
  {
   "cell_type": "code",
   "execution_count": 15,
   "id": "6aae1855",
   "metadata": {},
   "outputs": [],
   "source": [
    "from collections import namedtuple"
   ]
  },
  {
   "cell_type": "code",
   "execution_count": 16,
   "id": "fd92937a",
   "metadata": {},
   "outputs": [],
   "source": [
    "Dog = namedtuple('Dog', ['name','age','breed'])"
   ]
  },
  {
   "cell_type": "code",
   "execution_count": 17,
   "id": "af63162b",
   "metadata": {},
   "outputs": [
    {
     "data": {
      "text/plain": [
       "__main__.Dog"
      ]
     },
     "execution_count": 17,
     "metadata": {},
     "output_type": "execute_result"
    }
   ],
   "source": [
    "Dog"
   ]
  },
  {
   "cell_type": "code",
   "execution_count": 18,
   "id": "7e7f5e8c",
   "metadata": {},
   "outputs": [],
   "source": [
    "sammy = Dog(name='Peace',age=15,breed='Husky')"
   ]
  },
  {
   "cell_type": "code",
   "execution_count": 19,
   "id": "95c0e959",
   "metadata": {},
   "outputs": [
    {
     "data": {
      "text/plain": [
       "15"
      ]
     },
     "execution_count": 19,
     "metadata": {},
     "output_type": "execute_result"
    }
   ],
   "source": [
    "sammy.age"
   ]
  },
  {
   "cell_type": "code",
   "execution_count": 20,
   "id": "6caf0f6c",
   "metadata": {},
   "outputs": [
    {
     "data": {
      "text/plain": [
       "'Peace'"
      ]
     },
     "execution_count": 20,
     "metadata": {},
     "output_type": "execute_result"
    }
   ],
   "source": [
    "sammy.name"
   ]
  },
  {
   "cell_type": "code",
   "execution_count": 21,
   "id": "f07d828f",
   "metadata": {},
   "outputs": [
    {
     "data": {
      "text/plain": [
       "'Husky'"
      ]
     },
     "execution_count": 21,
     "metadata": {},
     "output_type": "execute_result"
    }
   ],
   "source": [
    "sammy.breed"
   ]
  },
  {
   "cell_type": "code",
   "execution_count": null,
   "id": "1c5987cd",
   "metadata": {},
   "outputs": [],
   "source": []
  }
 ],
 "metadata": {
  "kernelspec": {
   "display_name": "Python 3 (ipykernel)",
   "language": "python",
   "name": "python3"
  },
  "language_info": {
   "codemirror_mode": {
    "name": "ipython",
    "version": 3
   },
   "file_extension": ".py",
   "mimetype": "text/x-python",
   "name": "python",
   "nbconvert_exporter": "python",
   "pygments_lexer": "ipython3",
   "version": "3.9.13"
  }
 },
 "nbformat": 4,
 "nbformat_minor": 5
}
